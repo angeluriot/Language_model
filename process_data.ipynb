{
 "cells": [
  {
   "cell_type": "code",
   "execution_count": null,
   "metadata": {},
   "outputs": [],
   "source": [
    "import os, random\n",
    "from datasets import load_dataset\n",
    "\n",
    "from settings import *\n",
    "import data.data as data\n",
    "import data.pretokenizer as mypretk\n",
    "from utils import *\n",
    "from data.tokenizer import *"
   ]
  },
  {
   "cell_type": "code",
   "execution_count": 1,
   "metadata": {},
   "outputs": [
    {
     "name": "stderr",
     "output_type": "stream",
     "text": [
      "e:\\Angel\\Development\\Personal\\Language_model\\venv\\lib\\site-packages\\tqdm\\auto.py:21: TqdmWarning: IProgress not found. Please update jupyter and ipywidgets. See https://ipywidgets.readthedocs.io/en/stable/user_install.html\n",
      "  from .autonotebook import tqdm as notebook_tqdm\n",
      "Found cached dataset cc100 (C:/Users/angel/.cache/huggingface/datasets/cc100/fr-lang=fr/0.0.0/8159941b93eb06d0288bb80be26ddfe8213c0c5e33286619c85ad8e1ee0eb91c)\n",
      "100%|██████████| 1/1 [01:43<00:00, 103.49s/it]\n"
     ]
    }
   ],
   "source": [
    "from datasets import load_dataset\n",
    "dataset = load_dataset('cc100', lang = 'fr', num_proc = 32)"
   ]
  },
  {
   "cell_type": "code",
   "execution_count": 2,
   "metadata": {},
   "outputs": [
    {
     "name": "stdout",
     "output_type": "stream",
     "text": [
      "427630359\n"
     ]
    }
   ],
   "source": [
    "print(len(dataset['train']))"
   ]
  },
  {
   "cell_type": "code",
   "execution_count": null,
   "metadata": {},
   "outputs": [],
   "source": [
    "with open(os.path.join(DATA_DIR, 'tokenizer_dataset.txt'), 'w', encoding = 'utf-8') as f:\n",
    "\n",
    "\tf.truncate(0)\n",
    "\ti = 0\n",
    "\n",
    "\tfor document in dataset['train']:\n",
    "\n",
    "\t\ttext = data.clean(document['text'])\n",
    "\n",
    "\t\tif text == '':\n",
    "\t\t\tf.write('<eot>')\n",
    "\t\telse:\n",
    "\t\t\tf.write(text + '<nl><nl>')\n",
    "\n",
    "\t\tif i >= TOKENIZER_DATA_SIZE:\n",
    "\t\t\tbreak\n",
    "\n",
    "\t\ti += 1\n",
    "\n",
    "with open(os.path.join(DATA_DIR, 'tokenizer_dataset.txt'), 'r', encoding = 'utf-8') as f:\n",
    "\ttokenizer_data = f.read()"
   ]
  },
  {
   "cell_type": "code",
   "execution_count": null,
   "metadata": {},
   "outputs": [],
   "source": [
    "words = mypretk.split(tokenizer_data[:500])\n",
    "\n",
    "print(tokenizer_data[:500].replace(' ', '_'))\n",
    "print_tokens(words)"
   ]
  },
  {
   "cell_type": "code",
   "execution_count": null,
   "metadata": {},
   "outputs": [],
   "source": [
    "tokenizer = Tokenizer(tokenizer_data)\n",
    "vocab = tokenizer.vocab\n",
    "\n",
    "print('\\nVocab size:', '{:,.0f}'.format(len(vocab)), '\\n')\n",
    "\n",
    "for v in vocab:\n",
    "\tprint(f'[{v}]', end = ' ')"
   ]
  },
  {
   "cell_type": "code",
   "execution_count": null,
   "metadata": {},
   "outputs": [],
   "source": [
    "if os.path.exists(os.path.join(DATA_DIR, 'tokens.npy')):\n",
    "\ttokens = np.load(os.path.join(DATA_DIR, 'tokens.npy'))\n",
    "\n",
    "else:\n",
    "\ttokens = tokenizer.encode(tokenizer_data, True)\n",
    "\tnp.save(os.path.join(DATA_DIR, 'tokens.npy'), tokens)\n",
    "\n",
    "print('\\nEncoded dataset:')\n",
    "\n",
    "for token in tokens[:100]:\n",
    "\tprint(token, end = ' ')\n",
    "\n",
    "print('\\n\\nDecoded dataset:')\n",
    "\n",
    "example = tokenizer.decode(tokens[:100], True, True)\n",
    "print_tokens(example)"
   ]
  }
 ],
 "metadata": {
  "kernelspec": {
   "display_name": "venv",
   "language": "python",
   "name": "python3"
  },
  "language_info": {
   "codemirror_mode": {
    "name": "ipython",
    "version": 3
   },
   "file_extension": ".py",
   "mimetype": "text/x-python",
   "name": "python",
   "nbconvert_exporter": "python",
   "pygments_lexer": "ipython3",
   "version": "3.10.11"
  },
  "orig_nbformat": 4
 },
 "nbformat": 4,
 "nbformat_minor": 2
}
