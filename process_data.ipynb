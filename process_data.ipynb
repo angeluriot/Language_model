{
 "cells": [
  {
   "cell_type": "markdown",
   "metadata": {},
   "source": [
    "# Create training data"
   ]
  },
  {
   "cell_type": "markdown",
   "metadata": {},
   "source": [
    "### Imports"
   ]
  },
  {
   "cell_type": "code",
   "execution_count": null,
   "metadata": {},
   "outputs": [],
   "source": [
    "import os, random\n",
    "from datasets import load_dataset\n",
    "\n",
    "from dimgpt.data.clean import *\n",
    "from dimgpt.data.prepare import *\n",
    "from dimgpt.settings import *"
   ]
  },
  {
   "cell_type": "markdown",
   "metadata": {},
   "source": [
    "### CC100"
   ]
  },
  {
   "cell_type": "code",
   "execution_count": null,
   "metadata": {},
   "outputs": [],
   "source": [
    "cc100 = load_dataset('oscar', 'unshuffled_deduplicated_fr', num_proc = NUM_THREADS)"
   ]
  },
  {
   "cell_type": "code",
   "execution_count": null,
   "metadata": {},
   "outputs": [],
   "source": [
    "print(clean_document(cc100['train'][random.randint(0, CC100_NB_DOCUMENTS - 1)]['text']))"
   ]
  },
  {
   "cell_type": "markdown",
   "metadata": {},
   "source": [
    "### Wikipedia"
   ]
  },
  {
   "cell_type": "code",
   "execution_count": null,
   "metadata": {},
   "outputs": [],
   "source": [
    "wikipedia = load_dataset('wikipedia', '20220301.fr', num_proc = NUM_THREADS)"
   ]
  },
  {
   "cell_type": "code",
   "execution_count": null,
   "metadata": {},
   "outputs": [],
   "source": [
    "print(clean_document(wikipedia['train'][random.randint(0, WIKIPEDIA_NB_DOCUMENTS - 1)]['text']))"
   ]
  },
  {
   "cell_type": "markdown",
   "metadata": {},
   "source": [
    "### Create vocab"
   ]
  },
  {
   "cell_type": "code",
   "execution_count": null,
   "metadata": {},
   "outputs": [],
   "source": [
    "nb_from_cc100, nb_from_wikipedia, chars = create_tokenizer_data(cc100, wikipedia)\n",
    "print(f'CC100: {nb_from_cc100:,} characters')\n",
    "print(f'Wikipedia: {nb_from_wikipedia:,} characters')\n",
    "print(f'Characters ({len(chars)}):', [decode_string(char) for char in chars])"
   ]
  },
  {
   "cell_type": "code",
   "execution_count": null,
   "metadata": {},
   "outputs": [],
   "source": [
    "tokenizer = Tokenizer(tokenizer_data)\n",
    "vocab = tokenizer.vocab\n",
    "\n",
    "print('\\nVocab size:', '{:,.0f}'.format(len(vocab)), '\\n')\n",
    "\n",
    "for v in vocab:\n",
    "\tprint(f'[{v}]', end = ' ')"
   ]
  },
  {
   "cell_type": "code",
   "execution_count": null,
   "metadata": {},
   "outputs": [],
   "source": [
    "if os.path.exists(os.path.join(DATA_DIR, 'tokens.npy')):\n",
    "\ttokens = np.load(os.path.join(DATA_DIR, 'tokens.npy'))\n",
    "\n",
    "else:\n",
    "\ttokens = tokenizer.encode(tokenizer_data, True)\n",
    "\tnp.save(os.path.join(DATA_DIR, 'tokens.npy'), tokens)\n",
    "\n",
    "print('\\nEncoded dataset:')\n",
    "\n",
    "for token in tokens[:100]:\n",
    "\tprint(token, end = ' ')\n",
    "\n",
    "print('\\n\\nDecoded dataset:')\n",
    "\n",
    "example = tokenizer.decode(tokens[:100], True, True)\n",
    "print_tokens(example)"
   ]
  }
 ],
 "metadata": {
  "kernelspec": {
   "display_name": "venv",
   "language": "python",
   "name": "python3"
  },
  "language_info": {
   "codemirror_mode": {
    "name": "ipython",
    "version": 3
   },
   "file_extension": ".py",
   "mimetype": "text/x-python",
   "name": "python",
   "nbconvert_exporter": "python",
   "pygments_lexer": "ipython3",
   "version": "3.10.11"
  },
  "orig_nbformat": 4
 },
 "nbformat": 4,
 "nbformat_minor": 2
}
