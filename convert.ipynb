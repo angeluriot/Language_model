{
 "cells": [
  {
   "cell_type": "code",
   "execution_count": null,
   "metadata": {},
   "outputs": [],
   "source": [
    "import unicodedata\n",
    "\n"
   ]
  },
  {
   "cell_type": "code",
   "execution_count": null,
   "metadata": {},
   "outputs": [],
   "source": [
    "BAN_CATEGORIES = ['zl', 'zp', 'cc', 'cf', 'cs', 'co', 'cn']\n",
    "WHITE_LISTED_CHARS = ['\\n', '\\t']\n",
    "\n",
    "def clean(text: str) -> str:\n",
    "\n",
    "\tdef clean_char(char: str) -> str:\n",
    "\n",
    "\t\tif char in WHITE_LISTED_CHARS:\n",
    "\t\t\treturn char\n",
    "\n",
    "\t\tif unicodedata.category(char).lower() in BAN_CATEGORIES:\n",
    "\t\t\treturn ''\n",
    "\n",
    "\t\treturn char\n",
    "\n",
    "\treturn ''.join([clean_char(char) for char in text])"
   ]
  },
  {
   "cell_type": "code",
   "execution_count": null,
   "metadata": {},
   "outputs": [],
   "source": []
  }
 ],
 "metadata": {
  "kernelspec": {
   "display_name": "venv",
   "language": "python",
   "name": "python3"
  },
  "language_info": {
   "name": "python",
   "version": "3.10.11"
  },
  "orig_nbformat": 4
 },
 "nbformat": 4,
 "nbformat_minor": 2
}
