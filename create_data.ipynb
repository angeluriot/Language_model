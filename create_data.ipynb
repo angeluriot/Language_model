{
 "cells": [
  {
   "cell_type": "markdown",
   "metadata": {},
   "source": [
    "# Create training data"
   ]
  },
  {
   "cell_type": "markdown",
   "metadata": {},
   "source": [
    "### Imports"
   ]
  },
  {
   "cell_type": "code",
   "execution_count": null,
   "metadata": {},
   "outputs": [],
   "source": [
    "import os, random\n",
    "from datasets import load_dataset\n",
    "\n",
    "from dimgpt.data.clean import *\n",
    "from dimgpt.data.prepare import *\n",
    "from dimgpt.data.tokenizer import *\n",
    "from dimgpt import utils\n",
    "from dimgpt.settings import *\n",
    "\n",
    "utils.reset_rand()"
   ]
  },
  {
   "cell_type": "markdown",
   "metadata": {},
   "source": [
    "### CC100 fr"
   ]
  },
  {
   "cell_type": "code",
   "execution_count": null,
   "metadata": {},
   "outputs": [],
   "source": [
    "cc100 = load_dataset('oscar', 'unshuffled_deduplicated_fr', num_proc = NUM_THREADS)"
   ]
  },
  {
   "cell_type": "code",
   "execution_count": null,
   "metadata": {},
   "outputs": [],
   "source": [
    "print(decode_string(clean_document(cc100['train'][random.randint(0, CC100_NB_DOCUMENTS - 1)]['text'])))"
   ]
  },
  {
   "cell_type": "markdown",
   "metadata": {},
   "source": [
    "### Wikipedia fr"
   ]
  },
  {
   "cell_type": "code",
   "execution_count": null,
   "metadata": {},
   "outputs": [],
   "source": [
    "wikipedia = load_dataset('wikipedia', '20220301.fr', num_proc = NUM_THREADS)\n",
    "print(len(wikipedia['train']))"
   ]
  },
  {
   "cell_type": "code",
   "execution_count": null,
   "metadata": {},
   "outputs": [],
   "source": [
    "print(decode_string(clean_document(wikipedia['train'][random.randint(0, WIKIPEDIA_NB_DOCUMENTS - 1)]['text'])))"
   ]
  },
  {
   "cell_type": "markdown",
   "metadata": {},
   "source": [
    "### Create vocab"
   ]
  },
  {
   "cell_type": "code",
   "execution_count": null,
   "metadata": {},
   "outputs": [],
   "source": [
    "nb_from_cc100, nb_from_wikipedia, chars = create_tokenizer_data(cc100, wikipedia)\n",
    "print(f'CC100: {nb_from_cc100:,} characters')\n",
    "print(f'Wikipedia: {nb_from_wikipedia:,} characters')\n",
    "\n",
    "print('\\nNb characters:', len(chars), '\\n')\n",
    "\n",
    "for char in chars:\n",
    "\tprint(f'[{char}]', end = ' ')"
   ]
  },
  {
   "cell_type": "code",
   "execution_count": null,
   "metadata": {},
   "outputs": [],
   "source": [
    "tokenizer = Tokenizer()\n",
    "tokenizer.create(os.path.join(DATA_DIR, 'tokenizer_data.txt'))\n",
    "utils.save_text_array(tokenizer.vocab, os.path.join(DATA_DIR, 'vocab.txt'))\n",
    "\n",
    "print(f'\\nVocab size: {len(tokenizer.vocab):,}\\n')\n",
    "\n",
    "for v in tokenizer.vocab:\n",
    "\tprint(f'[{v}]', end = ' ')"
   ]
  },
  {
   "cell_type": "code",
   "execution_count": null,
   "metadata": {},
   "outputs": [],
   "source": [
    "tokenizer = Tokenizer()\n",
    "tokenizer.load_from_vocab(utils.load_text_array(os.path.join(DATA_DIR, 'vocab.txt')))"
   ]
  },
  {
   "cell_type": "markdown",
   "metadata": {},
   "source": [
    "### Fr instructs"
   ]
  },
  {
   "cell_type": "code",
   "execution_count": null,
   "metadata": {},
   "outputs": [],
   "source": [
    "fr_instructs = load_dataset('Enno-Ai/fr-instructs', num_proc = NUM_THREADS)"
   ]
  },
  {
   "cell_type": "code",
   "execution_count": null,
   "metadata": {},
   "outputs": [],
   "source": [
    "print(decode_string(clean_string(fr_instructs['train'][random.randint(0, FR_INSTRUCTS_NB_DOCUMENTS - 1)]['instruction'])))"
   ]
  },
  {
   "cell_type": "markdown",
   "metadata": {},
   "source": [
    "### French Reddit"
   ]
  },
  {
   "cell_type": "code",
   "execution_count": null,
   "metadata": {},
   "outputs": [],
   "source": [
    "french_reddit = import_xml_dataset(FRENCH_REDDIT_PATH)"
   ]
  },
  {
   "cell_type": "code",
   "execution_count": null,
   "metadata": {},
   "outputs": [],
   "source": [
    "print(decode_string(clean_chat(french_reddit[random.randint(0, FRENCH_REDDIT_NB_DOCUMENTS - 1)])))"
   ]
  },
  {
   "cell_type": "markdown",
   "metadata": {},
   "source": [
    "### French tweets"
   ]
  },
  {
   "cell_type": "code",
   "execution_count": null,
   "metadata": {},
   "outputs": [],
   "source": [
    "french_tweets = import_csv_dataset(FRENCH_TWEETS_PATH)"
   ]
  },
  {
   "cell_type": "code",
   "execution_count": null,
   "metadata": {},
   "outputs": [],
   "source": [
    "print(decode_string(clean_document(french_tweets[random.randint(0, FRENCH_TWEETS_NB_DOCUMENTS - 1)])))"
   ]
  },
  {
   "cell_type": "markdown",
   "metadata": {},
   "source": [
    "### My tweets"
   ]
  },
  {
   "cell_type": "code",
   "execution_count": null,
   "metadata": {},
   "outputs": [],
   "source": [
    "my_tweets = import_json_dataset(MY_TWEETS_PATH)"
   ]
  },
  {
   "cell_type": "code",
   "execution_count": null,
   "metadata": {},
   "outputs": [],
   "source": [
    "print(decode_string(clean_document(my_tweets[random.randint(0, MY_TWEETS_NB_DOCUMENTS - 1)])))"
   ]
  },
  {
   "cell_type": "markdown",
   "metadata": {},
   "source": [
    "### Create training data"
   ]
  },
  {
   "cell_type": "code",
   "execution_count": null,
   "metadata": {},
   "outputs": [],
   "source": [
    "prepare_hf_text_dataset(tokenizer, cc100, 'cc100')"
   ]
  },
  {
   "cell_type": "code",
   "execution_count": null,
   "metadata": {},
   "outputs": [],
   "source": [
    "prepare_hf_text_dataset(tokenizer, wikipedia, 'wikipedia')"
   ]
  },
  {
   "cell_type": "code",
   "execution_count": null,
   "metadata": {},
   "outputs": [],
   "source": [
    "prepare_hf_instructions_dataset(tokenizer, fr_instructs, 'fr_instructs')"
   ]
  },
  {
   "cell_type": "code",
   "execution_count": null,
   "metadata": {},
   "outputs": [],
   "source": [
    "prepare_csv_dataset(tokenizer, french_tweets, 'french_tweets')"
   ]
  },
  {
   "cell_type": "code",
   "execution_count": null,
   "metadata": {},
   "outputs": [],
   "source": [
    "prepare_xml_dataset(tokenizer, french_reddit, 'french_reddit')"
   ]
  },
  {
   "cell_type": "code",
   "execution_count": null,
   "metadata": {},
   "outputs": [],
   "source": [
    "prepare_json_dataset(tokenizer, my_tweets, 'my_tweets')"
   ]
  }
 ],
 "metadata": {
  "kernelspec": {
   "display_name": "venv",
   "language": "python",
   "name": "python3"
  },
  "language_info": {
   "codemirror_mode": {
    "name": "ipython",
    "version": 3
   },
   "file_extension": ".py",
   "mimetype": "text/x-python",
   "name": "python",
   "nbconvert_exporter": "python",
   "pygments_lexer": "ipython3",
   "version": "3.10.11"
  },
  "orig_nbformat": 4
 },
 "nbformat": 4,
 "nbformat_minor": 2
}
