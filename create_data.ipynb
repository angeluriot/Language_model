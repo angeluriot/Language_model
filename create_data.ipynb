{
 "cells": [
  {
   "cell_type": "markdown",
   "metadata": {},
   "source": [
    "# Create training data"
   ]
  },
  {
   "cell_type": "markdown",
   "metadata": {},
   "source": [
    "### Imports"
   ]
  },
  {
   "cell_type": "code",
   "execution_count": null,
   "metadata": {},
   "outputs": [],
   "source": [
    "import os, random\n",
    "from datasets import load_dataset\n",
    "\n",
    "from dimgpt.data.clean import *\n",
    "from dimgpt.data.prepare import *\n",
    "from dimgpt.data.tokenizer import *\n",
    "from dimgpt import utils\n",
    "from dimgpt.settings import *\n",
    "\n",
    "utils.reset_rand()"
   ]
  },
  {
   "cell_type": "markdown",
   "metadata": {},
   "source": [
    "### CC100 fr"
   ]
  },
  {
   "cell_type": "code",
   "execution_count": null,
   "metadata": {},
   "outputs": [],
   "source": [
    "cc100 = load_dataset('oscar', 'unshuffled_deduplicated_fr', num_proc = NUM_THREADS)"
   ]
  },
  {
   "cell_type": "code",
   "execution_count": null,
   "metadata": {},
   "outputs": [],
   "source": [
    "print(decode_string(clean_document(cc100['train'][random.randint(0, CC100_NB_DOCUMENTS - 1)]['text'])))"
   ]
  },
  {
   "cell_type": "markdown",
   "metadata": {},
   "source": [
    "### Wikipedia fr"
   ]
  },
  {
   "cell_type": "code",
   "execution_count": null,
   "metadata": {},
   "outputs": [],
   "source": [
    "wikipedia = load_dataset('wikipedia', '20220301.fr', num_proc = NUM_THREADS)\n",
    "print(len(wikipedia['train']))"
   ]
  },
  {
   "cell_type": "code",
   "execution_count": null,
   "metadata": {},
   "outputs": [],
   "source": [
    "print(decode_string(clean_document(wikipedia['train'][random.randint(0, WIKIPEDIA_NB_DOCUMENTS - 1)]['text'])))"
   ]
  },
  {
   "cell_type": "markdown",
   "metadata": {},
   "source": [
    "### Create vocab"
   ]
  },
  {
   "cell_type": "code",
   "execution_count": null,
   "metadata": {},
   "outputs": [],
   "source": [
    "nb_from_cc100, nb_from_wikipedia, chars = create_tokenizer_data(cc100, wikipedia)\n",
    "print(f'CC100: {nb_from_cc100:,} characters')\n",
    "print(f'Wikipedia: {nb_from_wikipedia:,} characters')\n",
    "\n",
    "print('\\nNb characters:', len(chars), '\\n')\n",
    "\n",
    "for char in chars:\n",
    "\tprint(f'[{char}]', end = ' ')"
   ]
  },
  {
   "cell_type": "code",
   "execution_count": null,
   "metadata": {},
   "outputs": [],
   "source": [
    "tokenizer = Tokenizer()\n",
    "tokenizer.create(os.path.join(DATA_DIR, 'tokenizer_data.txt'))\n",
    "utils.save_text_array(tokenizer.vocab, os.path.join(DATA_DIR, 'vocab.txt'))\n",
    "\n",
    "print(f'\\nVocab size: {len(tokenizer.vocab):,}\\n')\n",
    "\n",
    "for v in tokenizer.vocab:\n",
    "\tprint(f'[{v}]', end = ' ')"
   ]
  },
  {
   "cell_type": "markdown",
   "metadata": {},
   "source": [
    "### French Reddit"
   ]
  },
  {
   "cell_type": "code",
   "execution_count": null,
   "metadata": {},
   "outputs": [],
   "source": [
    "french_reddit = import_xml_dataset(FRENCH_REDDIT_PATH)"
   ]
  },
  {
   "cell_type": "code",
   "execution_count": null,
   "metadata": {},
   "outputs": [],
   "source": [
    "print(decode_string(clean_chat(french_reddit[random.randint(0, FRENCH_REDDIT_NB_DOCUMENTS - 1)])))"
   ]
  },
  {
   "cell_type": "markdown",
   "metadata": {},
   "source": [
    "### Create training data"
   ]
  },
  {
   "cell_type": "code",
   "execution_count": null,
   "metadata": {},
   "outputs": [],
   "source": [
    "prepare_hf_text_dataset(tokenizer, cc100, 'cc100')"
   ]
  },
  {
   "cell_type": "code",
   "execution_count": null,
   "metadata": {},
   "outputs": [],
   "source": [
    "prepare_hf_text_dataset(tokenizer, wikipedia, 'wikipedia')"
   ]
  },
  {
   "cell_type": "code",
   "execution_count": null,
   "metadata": {},
   "outputs": [],
   "source": [
    "prepare_xml_dataset(tokenizer, french_reddit, 'french_reddit')"
   ]
  }
 ],
 "metadata": {
  "kernelspec": {
   "display_name": "venv",
   "language": "python",
   "name": "python3"
  },
  "language_info": {
   "codemirror_mode": {
    "name": "ipython",
    "version": 3
   },
   "file_extension": ".py",
   "mimetype": "text/x-python",
   "name": "python",
   "nbconvert_exporter": "python",
   "pygments_lexer": "ipython3",
   "version": "3.10.11"
  },
  "orig_nbformat": 4
 },
 "nbformat": 4,
 "nbformat_minor": 2
}
