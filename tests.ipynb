{
 "cells": [
  {
   "cell_type": "code",
   "execution_count": null,
   "metadata": {},
   "outputs": [],
   "source": [
    "import tensorflow as tf\n",
    "from keras.datasets import mnist\n",
    "from keras.models import *\n",
    "from keras.layers import *"
   ]
  },
  {
   "cell_type": "code",
   "execution_count": null,
   "metadata": {},
   "outputs": [],
   "source": [
    "(x_train, y_train), (x_test, y_test) = mnist.load_data()\n",
    "\n",
    "x_train = x_train.reshape(-1, 28, 28, 1) / 255.0\n",
    "x_test = x_test.reshape(-1, 28, 28, 1) / 255.0"
   ]
  },
  {
   "cell_type": "code",
   "execution_count": null,
   "metadata": {},
   "outputs": [],
   "source": [
    "NB_ACCUMULATIONS = 16\n",
    "\n",
    "class MyModel(Sequential):\n",
    "\n",
    "\tdef __init__(self, **kwargs):\n",
    "\n",
    "\t\tsuper().__init__(**kwargs)\n",
    "\n",
    "\n",
    "\tdef compile(self, **kwargs):\n",
    "\n",
    "\t\tsuper().compile(**kwargs)\n",
    "\n",
    "\t\tself.acculumated_gradients = [\n",
    "\t\t\ttf.Variable(\n",
    "\t\t\t\tinitial_value = tf.zeros_like(v, dtype = tf.float32),\n",
    "\t\t\t\ttrainable = False,\n",
    "\t\t\t\tdtype = tf.float32\n",
    "\t\t\t)\n",
    "\t\t\tfor v in self.trainable_variables\n",
    "\t\t]\n",
    "\n",
    "\t\tself.acculation_counter = tf.Variable(\n",
    "\t\t\tinitial_value = 0,\n",
    "\t\t\ttrainable = False,\n",
    "\t\t\tdtype = tf.int32\n",
    "\t\t)\n",
    "\n",
    "\t@tf.function\n",
    "\tdef train_step(self, data):\n",
    "\n",
    "\t\tx, y = data\n",
    "\n",
    "\t\twith tf.GradientTape() as tape:\n",
    "\t\t\tpred = self(x, training = True)\n",
    "\t\t\tloss = self.compiled_loss(y, pred, regularization_losses = self.losses)\n",
    "\n",
    "\t\tgrads = tape.gradient(loss, self.trainable_variables)\n",
    "\n",
    "\t\tfor i in range(len(grads)):\n",
    "\t\t\tself.acculumated_gradients[i].assign_add(grads[i] / float(NB_ACCUMULATIONS))\n",
    "\n",
    "\t\tself.acculation_counter.assign_add(1)\n",
    "\n",
    "\t\tif self.acculation_counter >= NB_ACCUMULATIONS:\n",
    "\n",
    "\t\t\tself.optimizer.apply_gradients(zip(self.acculumated_gradients, self.trainable_variables))\n",
    "\n",
    "\t\t\tfor i in range(len(grads)):\n",
    "\t\t\t\tself.acculumated_gradients[i].assign(tf.zeros_like(grads[i], dtype = tf.float32))\n",
    "\n",
    "\t\t\tself.acculation_counter.assign(0)\n",
    "\n",
    "\t\tself.compiled_metrics.update_state(y, pred)\n",
    "\n",
    "\t\treturn {m.name: m.result() for m in self.metrics}"
   ]
  },
  {
   "cell_type": "code",
   "execution_count": null,
   "metadata": {},
   "outputs": [],
   "source": [
    "model = MyModel()\n",
    "\n",
    "model.add(Conv2D(32, (3, 3), activation = 'relu', input_shape = (28, 28, 1)))\n",
    "model.add(Conv2D(32, (3, 3), activation = 'relu'))\n",
    "model.add(MaxPooling2D())\n",
    "\n",
    "model.add(Conv2D(64, (3, 3), activation = 'relu'))\n",
    "model.add(Conv2D(64, (3, 3), activation = 'relu'))\n",
    "model.add(MaxPooling2D())\n",
    "\n",
    "model.add(Flatten())\n",
    "model.add(Dense(128, activation = 'relu'))\n",
    "model.add(Dense(10, activation = 'softmax'))\n",
    "\n",
    "model.compile(optimizer = 'adam', loss = 'sparse_categorical_crossentropy', metrics = ['accuracy'])"
   ]
  },
  {
   "cell_type": "code",
   "execution_count": null,
   "metadata": {},
   "outputs": [],
   "source": [
    "history = model.fit(x_train, y_train, epochs = 3, batch_size = 4, validation_data = (x_test, y_test))"
   ]
  },
  {
   "cell_type": "code",
   "execution_count": null,
   "metadata": {},
   "outputs": [],
   "source": [
    "print(list(history.history['loss']))\n",
    "print(list(history.history['val_loss']))"
   ]
  },
  {
   "cell_type": "code",
   "execution_count": null,
   "metadata": {},
   "outputs": [],
   "source": [
    "import numpy as np\n",
    "\n",
    "a = np.array([0.1, 0.2, 0.3, 0.4, 0.5, 0.6, 0.7, 0.8, 0.9, 1])\n",
    "\n",
    "# apply softmax\n",
    "b = np.exp(a) / np.sum(np.exp(a))\n",
    "\n",
    "probabilities = b\n",
    "probabilities = np.log(probabilities) / 0.5\n",
    "probabilities = np.exp(probabilities) / np.sum(np.exp(probabilities))\n",
    "\n",
    "sorted_indices = np.argsort(-probabilities)\n",
    "print(sorted_indices)\n",
    "cumsum_probabilites = np.cumsum(probabilities[sorted_indices])\n",
    "print(cumsum_probabilites)\n",
    "cutoff_index = np.searchsorted(cumsum_probabilites, cumsum_probabilites[0] + 1e-6)\n",
    "print(cutoff_index)\n",
    "new_probabilities = np.zeros_like(probabilities)\n",
    "print(new_probabilities)\n",
    "new_probabilities[sorted_indices[:cutoff_index]] = probabilities[sorted_indices[:cutoff_index]]\n",
    "print(new_probabilities)\n",
    "new_probabilities /= np.sum(new_probabilities)\n",
    "print(new_probabilities)"
   ]
  },
  {
   "cell_type": "code",
   "execution_count": null,
   "metadata": {},
   "outputs": [],
   "source": [
    "import numpy as np\n",
    "import matplotlib.pyplot as plt\n",
    "\n",
    "a = np.random.normal(0, 1, 100)\n",
    "a = sorted(a, reverse = True)\n",
    "\n",
    "a = np.exp(a) / np.sum(np.exp(a))\n",
    "a = np.log(a)\n",
    "a /= 0.5\n",
    "a[0] *= 1.1\n",
    "a = np.exp(a) / np.sum(np.exp(a))\n",
    "\n",
    "plt.bar(range(len(a)), a)\n",
    "plt.show()"
   ]
  },
  {
   "cell_type": "code",
   "execution_count": null,
   "metadata": {},
   "outputs": [],
   "source": [
    "import pickle\n",
    "import numpy as np\n",
    "import matplotlib.pyplot as plt\n",
    "\n",
    "logs = pickle.load(open('./bacup/gpt_64/logs.pkl', 'rb'))\n",
    "new_logs = pickle.load(open('./output/logs.pkl', 'rb'))\n",
    "\n",
    "x_loss = np.array(logs['tokens']) / 1e9\n",
    "y_loss = logs['loss']\n",
    "\n",
    "x_val_loss = np.array(logs['tokens']) / 1e9\n",
    "y_val_loss = logs['val_loss']\n",
    "\n",
    "x_new_loss = np.array(new_logs['tokens']) / 1e9\n",
    "y_new_loss = new_logs['loss']\n",
    "\n",
    "x_new_val_loss = np.array(new_logs['tokens']) / 1e9\n",
    "y_new_val_loss = new_logs['val_loss']\n",
    "\n",
    "loss_slope = (np.mean(y_loss[-100:]) - np.mean(y_loss[-400:-300])) / (np.mean(x_loss[-100:]) - np.mean(x_loss[-400:-300]))\n",
    "val_loss_slope = (np.mean(y_val_loss[-100:]) - np.mean(y_val_loss[-400:-300])) / (np.mean(x_val_loss[-100:]) - np.mean(x_val_loss[-400:-300]))\n",
    "\n",
    "if len(y_new_loss) > 400:\n",
    "\tnew_loss_slope = (np.mean(y_new_loss[-100:]) - np.mean(y_new_loss[-400:-300])) / (np.mean(x_new_loss[-100:]) - np.mean(x_new_loss[-400:-300]))\n",
    "\tnew_val_loss_slope = (np.mean(y_new_val_loss[-100:]) - np.mean(y_new_val_loss[-400:-300])) / (np.mean(x_new_val_loss[-100:]) - np.mean(x_new_val_loss[-400:-300]))\n",
    "else:\n",
    "\tnew_loss_slope = 0\n",
    "\tnew_val_loss_slope = 0\n",
    "\n",
    "duration = 10\n",
    "\n",
    "x_loss_pred = np.array([np.mean(x_loss[-10:]), np.mean(x_loss[-10:]) + duration])\n",
    "y_loss_pred = np.array([np.mean(y_loss[-10:]), np.mean(y_loss[-10:]) + duration * loss_slope])\n",
    "\n",
    "x_val_loss_pred = np.array([np.mean(x_val_loss[-10:]), np.mean(x_val_loss[-10:]) + duration])\n",
    "y_val_loss_pred = np.array([np.mean(y_val_loss[-10:]), np.mean(y_val_loss[-10:]) + duration * val_loss_slope])\n",
    "\n",
    "if len(y_new_loss) > 400:\n",
    "\tx_new_loss_pred = np.array([np.mean(x_new_loss[-10:]), np.mean(x_new_loss[-10:]) + duration])\n",
    "\ty_new_loss_pred = np.array([np.mean(y_new_loss[-10:]), np.mean(y_new_loss[-10:]) + duration * new_loss_slope])\n",
    "\n",
    "\tx_new_val_loss_pred = np.array([np.mean(x_new_val_loss[-10:]), np.mean(x_new_val_loss[-10:]) + duration])\n",
    "\ty_new_val_loss_pred = np.array([np.mean(y_new_val_loss[-10:]), np.mean(y_new_val_loss[-10:]) + duration * new_val_loss_slope])\n",
    "\n",
    "plt.figure(figsize = (20, 10))\n",
    "\n",
    "plt.plot(x_val_loss_pred, y_val_loss_pred, color = 'orange', alpha = 0.2)\n",
    "plt.plot(x_loss_pred, y_loss_pred, color = 'red', alpha = 0.2)\n",
    "\n",
    "if len(y_new_loss) > 400:\n",
    "\tplt.plot(x_new_val_loss_pred, y_new_val_loss_pred, color = 'deepskyblue', alpha = 0.2)\n",
    "\tplt.plot(x_new_loss_pred, y_new_loss_pred, color = 'blue', alpha = 0.2)\n",
    "\n",
    "plt.plot(x_val_loss, y_val_loss, label = 'Val loss', color = 'orange')\n",
    "plt.plot(x_loss, y_loss, label = 'Loss', color = 'red')\n",
    "\n",
    "plt.plot(x_new_val_loss, y_new_val_loss, label = 'New val loss', color = 'deepskyblue')\n",
    "plt.plot(x_new_loss, y_new_loss, label = 'New loss', color = 'blue')\n",
    "\n",
    "plt.ylim(2.7, 9.5)\n",
    "plt.xlim(0, 0.2)\n",
    "plt.legend()\n",
    "plt.ylabel('Loss')\n",
    "plt.xlabel('Processed tokens (billions)')\n",
    "plt.show()\n",
    "\n",
    "print('Loss:', np.min(logs['loss']), '(' + str(loss_slope) + ')')\n",
    "print('Val loss:', np.min(logs['val_loss']), '(' + str(val_loss_slope) + ')')\n",
    "print('New loss:', np.min(new_logs['loss']), '(' + str(new_loss_slope) + ')')\n",
    "print('New val loss:', np.min(new_logs['val_loss']), '(' + str(new_val_loss_slope) + ')')"
   ]
  },
  {
   "cell_type": "code",
   "execution_count": 1,
   "metadata": {},
   "outputs": [
    {
     "name": "stderr",
     "output_type": "stream",
     "text": [
      "e:\\Angel\\Development\\Personal\\Language_model\\venv\\lib\\site-packages\\tqdm\\auto.py:21: TqdmWarning: IProgress not found. Please update jupyter and ipywidgets. See https://ipywidgets.readthedocs.io/en/stable/user_install.html\n",
      "  from .autonotebook import tqdm as notebook_tqdm\n",
      "Found cached dataset cc100 (C:/Users/angel/.cache/huggingface/datasets/cc100/fr-lang=fr/0.0.0/8159941b93eb06d0288bb80be26ddfe8213c0c5e33286619c85ad8e1ee0eb91c)\n",
      "100%|██████████| 1/1 [01:51<00:00, 111.49s/it]\n"
     ]
    }
   ],
   "source": [
    "from datasets import load_dataset\n",
    "\n",
    "dataset = load_dataset('cc100', lang = 'fr', num_proc = 32)"
   ]
  },
  {
   "cell_type": "code",
   "execution_count": 4,
   "metadata": {},
   "outputs": [
    {
     "name": "stdout",
     "output_type": "stream",
     "text": [
      "<class 'datasets.arrow_dataset.Dataset'>\n"
     ]
    }
   ],
   "source": [
    "print(type(dataset['train'][0]))"
   ]
  }
 ],
 "metadata": {
  "kernelspec": {
   "display_name": "venv",
   "language": "python",
   "name": "python3"
  },
  "language_info": {
   "codemirror_mode": {
    "name": "ipython",
    "version": 3
   },
   "file_extension": ".py",
   "mimetype": "text/x-python",
   "name": "python",
   "nbconvert_exporter": "python",
   "pygments_lexer": "ipython3",
   "version": "3.10.11"
  },
  "orig_nbformat": 4
 },
 "nbformat": 4,
 "nbformat_minor": 2
}
