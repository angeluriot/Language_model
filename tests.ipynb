{
 "cells": [
  {
   "cell_type": "code",
   "execution_count": 5,
   "metadata": {},
   "outputs": [
    {
     "name": "stdout",
     "output_type": "stream",
     "text": [
      "___aa___ezigko_zezef_j_•j_•__j___<nl>__<t>__%kzeé_izçr_zg____¨e:=zge_g___ezù_=___=_gez_$gez__\n",
      "\u001b[94m___aa\u001b[0m\u001b[91m___ezigko\u001b[0m\u001b[94m_zezef\u001b[0m\u001b[91m_j\u001b[0m\u001b[94m_•j\u001b[0m\u001b[91m_•\u001b[0m\u001b[94m__j\u001b[0m\u001b[91m___<nl>__<t>__%kzeé\u001b[0m\u001b[94m_izçr\u001b[0m\u001b[91m_zg\u001b[0m\u001b[94m____¨e:=zge\u001b[0m\u001b[91m_g\u001b[0m\u001b[94m___ezù\u001b[0m\u001b[91m_=\u001b[0m\u001b[94m___=\u001b[0m\u001b[91m_gez\u001b[0m\u001b[94m_$gez\u001b[0m\u001b[91m__\u001b[0m"
     ]
    }
   ],
   "source": [
    "import re\n",
    "\n",
    "a = \"   aa   ezigko zezef j •j •  j   \\n  \\t  %kzeé izçr zg    ¨e:=zge g   ezù =   = gez $gez  \"\n",
    "\n",
    "a = a.replace('\\n', '<nl>').replace('\\t', '    ')\n",
    "\n",
    "# Start\n",
    "\n",
    "b = re.split(r'(?<=[^\\s])\\s', a)\n",
    "\n",
    "for i in range(1, len(b)):\n",
    "\tb[i] = ' ' + b[i]\n",
    "\n",
    "temp = []\n",
    "\n",
    "# Stop\n",
    "\n",
    "print(a.replace(' ', '_').replace('\\n', '<nl>').replace('\\t', '<t>'))\n",
    "\n",
    "for i in range(len(b)):\n",
    "\tif i % 2 == 1:\n",
    "\t\tprint('\\033[91m' + b[i].replace(' ', '_').replace('\\n', '<nl>').replace('\\t', '<t>') + '\\033[0m', end = '')\n",
    "\telse:\n",
    "\t\tprint('\\033[94m' + b[i].replace(' ', '_').replace('\\n', '<nl>').replace('\\t', '<t>') + '\\033[0m', end = '')"
   ]
  }
 ],
 "metadata": {
  "kernelspec": {
   "display_name": "venv",
   "language": "python",
   "name": "python3"
  },
  "language_info": {
   "codemirror_mode": {
    "name": "ipython",
    "version": 3
   },
   "file_extension": ".py",
   "mimetype": "text/x-python",
   "name": "python",
   "nbconvert_exporter": "python",
   "pygments_lexer": "ipython3",
   "version": "3.10.11"
  },
  "orig_nbformat": 4
 },
 "nbformat": 4,
 "nbformat_minor": 2
}
