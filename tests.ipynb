{
 "cells": [
  {
   "cell_type": "code",
   "execution_count": null,
   "metadata": {},
   "outputs": [],
   "source": [
    "import tensorflow as tf\n",
    "from keras.datasets import mnist\n",
    "from keras.models import *\n",
    "from keras.layers import *"
   ]
  },
  {
   "cell_type": "code",
   "execution_count": null,
   "metadata": {},
   "outputs": [],
   "source": [
    "(x_train, y_train), (x_test, y_test) = mnist.load_data()\n",
    "\n",
    "x_train = x_train.reshape(-1, 28, 28, 1) / 255.0\n",
    "x_test = x_test.reshape(-1, 28, 28, 1) / 255.0"
   ]
  },
  {
   "cell_type": "code",
   "execution_count": null,
   "metadata": {},
   "outputs": [],
   "source": [
    "class MyModel(Sequential):\n",
    "\n",
    "\tdef __init__(self, **kwargs):\n",
    "\n",
    "\t\tsuper().__init__(**kwargs)\n",
    "\n",
    "\n",
    "\tdef compile(self, **kwargs):\n",
    "\n",
    "\t\tsuper().compile(**kwargs)\n",
    "\n",
    "\t\tself.acculumated_gradients = [\n",
    "\t\t\ttf.Variable(\n",
    "\t\t\t\tinitial_value = tf.zeros_like(v, dtype = tf.float32),\n",
    "\t\t\t\ttrainable = False,\n",
    "\t\t\t\tdtype = tf.float32\n",
    "\t\t\t)\n",
    "\t\t\tfor v in self.trainable_variables\n",
    "\t\t]\n",
    "\n",
    "\t\tself.acculation_counter = tf.Variable(\n",
    "\t\t\tinitial_value = 0,\n",
    "\t\t\ttrainable = False,\n",
    "\t\t\tdtype = tf.int32\n",
    "\t\t)\n",
    "\n",
    "\t@tf.function\n",
    "\tdef train_step(self, data):\n",
    "\n",
    "\t\tx, y = data\n",
    "\n",
    "\t\twith tf.GradientTape() as tape:\n",
    "\t\t\tpred = self(x, training = True)\n",
    "\t\t\tloss = self.compiled_loss(y, pred, regularization_losses = self.losses)\n",
    "\n",
    "\t\tgrads = tape.gradient(loss, self.trainable_variables)\n",
    "\n",
    "\t\tfor i in range(len(grads)):\n",
    "\t\t\tself.acculumated_gradients[i].assign_add(grads[i] / 16.0)\n",
    "\n",
    "\t\tif self.acculation_counter >= 16:\n",
    "\n",
    "\t\t\tself.optimizer.apply_gradients(zip(self.acculumated_gradients, self.trainable_variables))\n",
    "\n",
    "\t\t\tfor i in range(len(grads)):\n",
    "\t\t\t\tself.acculumated_gradients[i].assign(tf.zeros_like(grads[i], dtype = tf.float32))\n",
    "\n",
    "\t\t\tself.acculation_counter.assign(0)\n",
    "\n",
    "\t\tself.acculation_counter.assign_add(1)\n",
    "\n",
    "\t\t#self.optimizer.apply_gradients(zip(grads, self.trainable_variables))\n",
    "\n",
    "\t\tself.compiled_metrics.update_state(y, pred)\n",
    "\n",
    "\t\treturn {m.name: m.result() for m in self.metrics}"
   ]
  },
  {
   "cell_type": "code",
   "execution_count": null,
   "metadata": {},
   "outputs": [],
   "source": [
    "model = MyModel()\n",
    "\n",
    "model.add(Conv2D(32, (3, 3), activation = 'relu', input_shape = (28, 28, 1)))\n",
    "model.add(Conv2D(32, (3, 3), activation = 'relu'))\n",
    "model.add(MaxPooling2D())\n",
    "\n",
    "model.add(Conv2D(64, (3, 3), activation = 'relu'))\n",
    "model.add(Conv2D(64, (3, 3), activation = 'relu'))\n",
    "model.add(MaxPooling2D())\n",
    "\n",
    "model.add(Flatten())\n",
    "model.add(Dense(128, activation = 'relu'))\n",
    "model.add(Dense(10, activation = 'softmax'))\n",
    "\n",
    "model.compile(optimizer = 'adam', loss = 'sparse_categorical_crossentropy', metrics = ['accuracy'])"
   ]
  },
  {
   "cell_type": "code",
   "execution_count": null,
   "metadata": {},
   "outputs": [],
   "source": [
    "history = model.fit(x_train, y_train, epochs = 3, batch_size = 4, validation_data = (x_test, y_test))"
   ]
  },
  {
   "cell_type": "code",
   "execution_count": null,
   "metadata": {},
   "outputs": [],
   "source": [
    "print(list(history.history['loss']))\n",
    "print(list(history.history['val_loss']))"
   ]
  },
  {
   "cell_type": "code",
   "execution_count": null,
   "metadata": {},
   "outputs": [],
   "source": [
    "import numpy as np\n",
    "\n",
    "a = np.random.normal(0.5, 2, 100)\n",
    "\n",
    "# apply softmax\n",
    "b = np.exp(a) / np.sum(np.exp(a))\n",
    "\n",
    "probabilities = b\n",
    "print(list(probabilities))\n",
    "probabilities = np.log(probabilities) / 0.5\n",
    "print(list(probabilities))\n",
    "probabilities = np.exp(probabilities) / np.sum(np.exp(probabilities))\n",
    "print(list(probabilities))\n",
    "\n",
    "sorted_indices = np.argsort(probabilities)[::-1]\n",
    "print(list(sorted_indices))\n",
    "cumulative_probabilities = np.cumsum(probabilities[sorted_indices])\n",
    "print(list(cumulative_probabilities))\n",
    "sorted_indices = sorted_indices[cumulative_probabilities <= 1.0]\n",
    "print(list(sorted_indices))\n",
    "probabilities = probabilities[sorted_indices]\n",
    "print(list(probabilities))\n",
    "probabilities = probabilities / np.sum(probabilities)\n",
    "print(list(probabilities))"
   ]
  }
 ],
 "metadata": {
  "kernelspec": {
   "display_name": "venv",
   "language": "python",
   "name": "python3"
  },
  "language_info": {
   "codemirror_mode": {
    "name": "ipython",
    "version": 3
   },
   "file_extension": ".py",
   "mimetype": "text/x-python",
   "name": "python",
   "nbconvert_exporter": "python",
   "pygments_lexer": "ipython3",
   "version": "3.8.16"
  },
  "orig_nbformat": 4
 },
 "nbformat": 4,
 "nbformat_minor": 2
}
