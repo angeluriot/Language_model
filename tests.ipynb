{
 "cells": [
  {
   "cell_type": "code",
   "execution_count": 30,
   "metadata": {},
   "outputs": [
    {
     "name": "stdout",
     "output_type": "stream",
     "text": [
      "<nl>___aa___ezigko_zez<nl><nl>ef<nl>_j_•j_•__j___<nl><nl><nl>________%kzeé_izçr_zg____¨e:=zge_<nl>g___ezù_=___=_gez_$gez__<nl>\n",
      "\u001b[94m<nl>\u001b[0m\u001b[91m___aa\u001b[0m\u001b[94m___ezigko\u001b[0m\u001b[91m_zez\u001b[0m\u001b[94m<nl>\u001b[0m\u001b[91m<nl>\u001b[0m\u001b[94mef\u001b[0m\u001b[91m<nl>\u001b[0m\u001b[94m_j\u001b[0m\u001b[91m_•j\u001b[0m\u001b[94m_•\u001b[0m\u001b[91m__j\u001b[0m\u001b[94m___\u001b[0m\u001b[91m<nl>\u001b[0m\u001b[94m<nl>\u001b[0m\u001b[91m<nl>\u001b[0m\u001b[94m________%kzeé\u001b[0m\u001b[91m_izçr\u001b[0m\u001b[94m_zg\u001b[0m\u001b[91m____¨e:=zge\u001b[0m\u001b[94m_\u001b[0m\u001b[91m<nl>\u001b[0m\u001b[94mg\u001b[0m\u001b[91m___ezù\u001b[0m\u001b[94m_=\u001b[0m\u001b[91m___=\u001b[0m\u001b[94m_gez\u001b[0m\u001b[91m_$gez\u001b[0m\u001b[94m__\u001b[0m\u001b[91m<nl>\u001b[0m"
     ]
    }
   ],
   "source": [
    "import re\n",
    "from settings import *\n",
    "\n",
    "a = \"\\n   aa   ezigko zez\\n\\nef\\n j •j •  j   \\n\\n\\n  \\t  %kzeé izçr zg    ¨e:=zge \\ng   ezù =   = gez $gez  \\n\"\n",
    "\n",
    "a = a.replace('\\n', '<nl>').replace('\\t', '    ')\n",
    "\n",
    "# Start\n",
    "\n",
    "b = re.split(r'(?<=[^\\s])\\s', a)\n",
    "\n",
    "for i in range(1, len(b)):\n",
    "\tb[i] = ' ' + b[i]\n",
    "\n",
    "temp = []\n",
    "\n",
    "for control in CONTROL_CHARS:\n",
    "\n",
    "\tfor i in range(len(b)):\n",
    "\n",
    "\t\tparts = b[i].split(control)\n",
    "\n",
    "\t\tfor part in parts:\n",
    "\n",
    "\t\t\tif len(part) > 0:\n",
    "\t\t\t\ttemp.append(part)\n",
    "\n",
    "\t\t\ttemp.append(control)\n",
    "\n",
    "\t\ttemp.pop()\n",
    "\n",
    "\tb = temp\n",
    "\ttemp = []\n",
    "\n",
    "\n",
    "\n",
    "# Stop\n",
    "\n",
    "print(a.replace(' ', '_'))\n",
    "\n",
    "for i in range(len(b)):\n",
    "\tif i % 2 == 1:\n",
    "\t\tprint('\\033[91m' + b[i].replace(' ', '_') + '\\033[0m', end = '')\n",
    "\telse:\n",
    "\t\tprint('\\033[94m' + b[i].replace(' ', '_') + '\\033[0m', end = '')"
   ]
  },
  {
   "cell_type": "code",
   "execution_count": 21,
   "metadata": {},
   "outputs": [
    {
     "name": "stdout",
     "output_type": "stream",
     "text": [
      "['', '', '']\n"
     ]
    }
   ],
   "source": [
    "print('a.n'.split('.'))"
   ]
  }
 ],
 "metadata": {
  "kernelspec": {
   "display_name": "venv",
   "language": "python",
   "name": "python3"
  },
  "language_info": {
   "codemirror_mode": {
    "name": "ipython",
    "version": 3
   },
   "file_extension": ".py",
   "mimetype": "text/x-python",
   "name": "python",
   "nbconvert_exporter": "python",
   "pygments_lexer": "ipython3",
   "version": "3.10.11"
  },
  "orig_nbformat": 4
 },
 "nbformat": 4,
 "nbformat_minor": 2
}
