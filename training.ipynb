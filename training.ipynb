{
 "cells": [
  {
   "cell_type": "code",
   "execution_count": null,
   "metadata": {},
   "outputs": [],
   "source": [
    "import os\n",
    "import numpy as np\n",
    "import tensorflow as tf\n",
    "from keras.callbacks import *\n",
    "from keras.optimizers.optimizer_experimental.adamw import AdamW\n",
    "\n",
    "from settings import *\n",
    "import data\n",
    "from model import *\n",
    "from tokenizer import *\n",
    "from callbacks import *"
   ]
  },
  {
   "cell_type": "code",
   "execution_count": null,
   "metadata": {},
   "outputs": [],
   "source": [
    "gpus = tf.config.experimental.list_physical_devices('GPU')\n",
    "\n",
    "if gpus:\n",
    "\n",
    "\ttry:\n",
    "\t\ttf.config.experimental.set_visible_devices(gpus[0], 'GPU')\n",
    "\t\tprint('Using GPU :)')\n",
    "\n",
    "\texcept RuntimeError as e:\n",
    "\t\tprint(e)\n",
    "\n",
    "else:\n",
    "\tprint('Using CPU :(')"
   ]
  },
  {
   "cell_type": "code",
   "execution_count": null,
   "metadata": {},
   "outputs": [],
   "source": [
    "dataset, chars = data.parse_dataset(DATASET_PATH)\n",
    "\n",
    "print('\\nDataset size:', format(len(dataset), ',').replace(',', ' '))\n",
    "print('Nb chars:    ', format(len(chars), ',').replace(',', ' '))\n",
    "print('\\nExample:')\n",
    "\n",
    "for i in range(100):\n",
    "\tprint(dataset[i], end = '')\n",
    "\n",
    "print('\\n\\nChars:')\n",
    "\n",
    "for c in chars:\n",
    "\tprint('[' + c + ']', end = ' ')"
   ]
  },
  {
   "cell_type": "code",
   "execution_count": null,
   "metadata": {},
   "outputs": [],
   "source": [
    "tokenizer = Tokenizer(dataset)\n",
    "\n",
    "print(\"\\nVocab size:\", len(tokenizer.vocab), \"\\n\")\n",
    "\n",
    "for i in range(len(tokenizer.vocab)):\n",
    "\tprint(\"[\" + tokenizer.vocab[i] + \"]\", end = \" \")"
   ]
  },
  {
   "cell_type": "code",
   "execution_count": null,
   "metadata": {},
   "outputs": [],
   "source": [
    "if os.path.exists(os.path.join(PROCESSED_DATA_DIR, \"tokens.npy\")):\n",
    "\ttokens = np.load(os.path.join(PROCESSED_DATA_DIR, \"tokens.npy\"))\n",
    "\n",
    "else:\n",
    "\ttokens = tokenizer.encode(dataset)\n",
    "\n",
    "\tif not os.path.exists(PROCESSED_DATA_DIR):\n",
    "\t\tos.mkdir(PROCESSED_DATA_DIR)\n",
    "\n",
    "\tnp.save(os.path.join(PROCESSED_DATA_DIR, \"tokens.npy\"), tokens)\n",
    "\n",
    "print(\"Encoded dataset:\")\n",
    "\n",
    "for token in tokens[:50]:\n",
    "\tprint(token, end = \" \")\n",
    "\n",
    "print(\"...\")\n",
    "print(\"\\n\\nDecoded dataset:\")\n",
    "print('\"', end = \"\")\n",
    "\n",
    "for i, token in enumerate(tokenizer.decode(tokens[:50], True, True)):\n",
    "\tif i % 2 == 0:\n",
    "\t\tprint(\"\\033[91m\" + token + \"\\033[0m\", end = \"\")\n",
    "\telse:\n",
    "\t\tprint(\"\\033[94m\" + token + \"\\033[0m\", end = \"\")\n",
    "\n",
    "print('...\"')"
   ]
  },
  {
   "cell_type": "code",
   "execution_count": null,
   "metadata": {},
   "outputs": [],
   "source": [
    "train_indexes, val_indexes = data.split_dataset(tokens)\n",
    "\n",
    "print(\"Train indexes:\", len(train_indexes))\n",
    "print(\"Val indexes:\", len(val_indexes))"
   ]
  },
  {
   "cell_type": "code",
   "execution_count": null,
   "metadata": {},
   "outputs": [],
   "source": [
    "train_generator = BatchGenerator(tokens, train_indexes, val_frequency = VAL_FREQUENCY)\n",
    "x, y = train_generator.__getitem__(0)\n",
    "\n",
    "for i in range(len(x[0])):\n",
    "\tprint(x[0][i], end = (max(len(str(x[0][i])), len(str(y[0][i]))) - len(str(x[0][i])) + 1) * \" \" + \"| \")\n",
    "\n",
    "print()\n",
    "\n",
    "for i in range(len(y[0])):\n",
    "\tprint(y[0][i], end = (max(len(str(x[0][i])), len(str(y[0][i]))) - len(str(y[0][i])) + 1) * \" \" + \"| \")\n",
    "\n",
    "print(\"\\n\")\n",
    "print('\"' + tokenizer.decode(x[0], True) + '\"')\n",
    "print('\"' + tokenizer.decode(y[0], True) + '\"')"
   ]
  },
  {
   "cell_type": "code",
   "execution_count": null,
   "metadata": {},
   "outputs": [],
   "source": [
    "model = create_model(len(tokenizer.vocab))\n",
    "\n",
    "model.compile(\n",
    "\toptimizer = AdamW(learning_rate = 0, weight_decay = WEIGHT_DECAY, beta_1 = BETA_1, beta_2 = BETA_2, global_clipnorm = CLIP_GRADIENTS),\n",
    "\tloss = 'sparse_categorical_crossentropy',\n",
    "\tmetrics = ['accuracy']\n",
    ")\n",
    "\n",
    "model.summary()"
   ]
  },
  {
   "cell_type": "code",
   "execution_count": null,
   "metadata": {},
   "outputs": [],
   "source": [
    "model.fit(\n",
    "\ttrain_generator,\n",
    "\tvalidation_data = BatchGenerator(tokens, val_indexes, ratio = 1.0 / VAL_FREQUENCY),\n",
    "\tbatch_size = BATCH_SIZE,\n",
    "\tvalidation_batch_size = BATCH_SIZE,\n",
    "\tepochs = NUM_EPOCHS,\n",
    "\tshuffle = False,\n",
    "\tcallbacks = [\n",
    "\t\tLRScheduler(len(train_indexes) // VAL_FREQUENCY),\n",
    "\t\tModelCheckpoint(\n",
    "\t\t\tfilepath = \"model.h5\",\n",
    "\t\t\tmonitor = \"val_loss\",\n",
    "\t\t\tsave_best_only = True,\n",
    "\t\t\tsave_weights_only = True\n",
    "\t\t),\n",
    "\t\tEarlyStopping(\n",
    "\t\t\tmonitor = \"val_loss\",\n",
    "\t\t\tpatience = 20,\n",
    "\t\t\trestore_best_weights = True\n",
    "\t\t)\n",
    "\t]\n",
    ")"
   ]
  },
  {
   "cell_type": "code",
   "execution_count": null,
   "metadata": {},
   "outputs": [],
   "source": [
    "model.load_weights(\"model.h5\")"
   ]
  },
  {
   "cell_type": "code",
   "execution_count": null,
   "metadata": {},
   "outputs": [],
   "source": [
    "model.evaluate(BatchGenerator(tokens, val_indexes, ratio = 1.0 / VAL_FREQUENCY), batch_size = BATCH_SIZE)"
   ]
  },
  {
   "cell_type": "code",
   "execution_count": null,
   "metadata": {},
   "outputs": [],
   "source": [
    "input = [\"<eod>\"]\n",
    "output = predict(model, input, tokenizer, 256, 1, True)"
   ]
  }
 ],
 "metadata": {
  "kernelspec": {
   "display_name": "venv",
   "language": "python",
   "name": "python3"
  },
  "language_info": {
   "codemirror_mode": {
    "name": "ipython",
    "version": 3
   },
   "file_extension": ".py",
   "mimetype": "text/x-python",
   "name": "python",
   "nbconvert_exporter": "python",
   "pygments_lexer": "ipython3",
   "version": "3.10.11"
  },
  "orig_nbformat": 4
 },
 "nbformat": 4,
 "nbformat_minor": 2
}
