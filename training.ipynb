{
 "cells": [
  {
   "cell_type": "code",
   "execution_count": 1,
   "metadata": {},
   "outputs": [
    {
     "name": "stderr",
     "output_type": "stream",
     "text": [
      "e:\\Angel\\Development\\Personal\\Language_model\\venv\\lib\\site-packages\\tqdm\\auto.py:21: TqdmWarning: IProgress not found. Please update jupyter and ipywidgets. See https://ipywidgets.readthedocs.io/en/stable/user_install.html\n",
      "  from .autonotebook import tqdm as notebook_tqdm\n"
     ]
    }
   ],
   "source": [
    "import os, pickle\n",
    "import numpy as np\n",
    "import tensorflow as tf\n",
    "from keras.models import *\n",
    "from keras.optimizers.optimizer_experimental.adamw import AdamW\n",
    "\n",
    "from settings import *\n",
    "import data\n",
    "from generator import *\n",
    "from model import *\n",
    "from callbacks import *\n",
    "from utils import *\n",
    "from tokenizer import *\n",
    "import pretokenizer as mypretk"
   ]
  },
  {
   "cell_type": "code",
   "execution_count": 2,
   "metadata": {},
   "outputs": [
    {
     "name": "stdout",
     "output_type": "stream",
     "text": [
      "Using GPU :)\n"
     ]
    }
   ],
   "source": [
    "gpus = tf.config.experimental.list_physical_devices('GPU')\n",
    "\n",
    "if gpus:\n",
    "\n",
    "\ttry:\n",
    "\t\ttf.config.experimental.set_visible_devices(gpus[0], 'GPU')\n",
    "\t\tprint('Using GPU :)')\n",
    "\n",
    "\texcept RuntimeError as e:\n",
    "\t\tprint(e)\n",
    "\n",
    "else:\n",
    "\tprint('Using CPU :(')"
   ]
  },
  {
   "cell_type": "code",
   "execution_count": 3,
   "metadata": {},
   "outputs": [
    {
     "name": "stdout",
     "output_type": "stream",
     "text": [
      "Importing dataset...\n"
     ]
    },
    {
     "name": "stderr",
     "output_type": "stream",
     "text": [
      "Found cached dataset cc100 (C:/Users/angel/.cache/huggingface/datasets/cc100/fr-lang=fr/0.0.0/8159941b93eb06d0288bb80be26ddfe8213c0c5e33286619c85ad8e1ee0eb91c)\n",
      "100%|██████████| 1/1 [03:05<00:00, 185.81s/it]\n"
     ]
    }
   ],
   "source": [
    "dataset = data.import_dataset()\n",
    "\n",
    "print('Dataset size:', '{:,.0f}'.format(len(dataset)))\n",
    "\n",
    "print('\\n' + dataset[:500])"
   ]
  },
  {
   "cell_type": "code",
   "execution_count": 25,
   "metadata": {},
   "outputs": [
    {
     "name": "stdout",
     "output_type": "stream",
     "text": [
      "<class 'datasets.dataset_dict.DatasetDict'>\n",
      "427630359\n",
      "-J'aime bien toucher à tout, en laissant tomber finalement et en me disant qu'en bossant j'aurais pu être vraiment bon.\n",
      "\n"
     ]
    }
   ],
   "source": [
    "print(type(dataset))\n",
    "print(len(dataset['train']))\n",
    "\n",
    "print(dataset['train'][50]['text'])"
   ]
  },
  {
   "cell_type": "code",
   "execution_count": null,
   "metadata": {},
   "outputs": [],
   "source": [
    "words = mypretk.split(dataset[:500])\n",
    "\n",
    "print(dataset[:500].replace(' ', '_'))\n",
    "print_tokens(words)"
   ]
  },
  {
   "cell_type": "code",
   "execution_count": null,
   "metadata": {},
   "outputs": [],
   "source": [
    "tokenizer = Tokenizer(dataset)\n",
    "vocab = tokenizer.vocab\n",
    "\n",
    "print('\\nVocab size:', '{:,.0f}'.format(len(vocab)), '\\n')\n",
    "\n",
    "for v in vocab:\n",
    "\tprint(f'[{v}]', end = ' ')"
   ]
  },
  {
   "cell_type": "code",
   "execution_count": null,
   "metadata": {},
   "outputs": [],
   "source": [
    "if os.path.exists(os.path.join(DATA_DIR, 'tokens.npy')):\n",
    "\ttokens = np.load(os.path.join(DATA_DIR, 'tokens.npy'))\n",
    "\n",
    "else:\n",
    "\ttokens = tokenizer.encode(dataset, True)\n",
    "\tnp.save(os.path.join(DATA_DIR, 'tokens.npy'), tokens)\n",
    "\n",
    "print('\\nEncoded dataset:')\n",
    "\n",
    "for token in tokens[:100]:\n",
    "\tprint(token, end = ' ')\n",
    "\n",
    "print('\\n\\nDecoded dataset:')\n",
    "\n",
    "example = tokenizer.decode(tokens[:100], True, True)\n",
    "print_tokens(example)"
   ]
  },
  {
   "cell_type": "code",
   "execution_count": null,
   "metadata": {},
   "outputs": [],
   "source": [
    "train_indexes, val_indexes = data.split_dataset(tokens)\n",
    "\n",
    "print('Train indexes:', '{:,.0f}'.format(len(train_indexes)))\n",
    "print('Val indexes:  ', '{:,.0f}'.format(len(val_indexes)))"
   ]
  },
  {
   "cell_type": "code",
   "execution_count": null,
   "metadata": {},
   "outputs": [],
   "source": [
    "train_generator = BatchGenerator(tokens, train_indexes, size = STEP_PER_EPOCH)\n",
    "x, y = train_generator.__getitem__(0)\n",
    "\n",
    "for i in range(len(x[0])):\n",
    "\tprint(x[0][i], end = (max(len(str(x[0][i])), len(str(y[0][i]))) - len(str(x[0][i])) + 1) * ' ' + '| ')\n",
    "\n",
    "print()\n",
    "\n",
    "for i in range(len(y[0])):\n",
    "\tprint(y[0][i], end = (max(len(str(x[0][i])), len(str(y[0][i]))) - len(str(y[0][i])) + 1) * ' ' + '| ')\n",
    "\n",
    "print('\\n')\n",
    "print_tokens(tokenizer.decode(x[0], True, True))\n",
    "print_tokens(tokenizer.decode(y[0], True, True))"
   ]
  },
  {
   "cell_type": "code",
   "execution_count": null,
   "metadata": {},
   "outputs": [],
   "source": [
    "model = create_model(len(tokenizer.vocab))\n",
    "\n",
    "model.compile(\n",
    "\toptimizer = AdamW(learning_rate = 0.0, weight_decay = WEIGHT_DECAY, beta_1 = BETA_1, beta_2 = BETA_2, clipnorm = CLIP_GRADIENTS),\n",
    "\tloss = 'sparse_categorical_crossentropy',\n",
    "\tmetrics = ['accuracy']\n",
    ")\n",
    "\n",
    "model.summary()"
   ]
  },
  {
   "cell_type": "code",
   "execution_count": null,
   "metadata": {},
   "outputs": [],
   "source": [
    "init_epoch = 0\n",
    "\n",
    "if os.path.exists(os.path.join(OUTPUT_DIR, 'logs.pkl')) and os.path.exists(os.path.join(OUTPUT_DIR, 'model.h5')) and os.path.exists(os.path.join(OUTPUT_DIR, 'optimizer.pkl')):\n",
    "\n",
    "\tlogs = pickle.load(open(os.path.join(OUTPUT_DIR, 'logs.pkl'), 'rb'))\n",
    "\tinit_epoch = logs['epochs'][-1]\n",
    "\n",
    "\tif NUM_ACCUMULATIONS > 1:\n",
    "\t\tload_state(model.optimizer, os.path.join(OUTPUT_DIR, 'optimizer.pkl'))\n",
    "\t\tmodel.fit(BatchGenerator(tokens, train_indexes, size = NUM_ACCUMULATIONS + 1), batch_size = BATCH_SIZE, epochs = 1, shuffle = False, verbose = 0)\n",
    "\t\tmodel.load_weights(os.path.join(OUTPUT_DIR, 'model.h5'))\n",
    "\t\treset_accumulator(model)\n",
    "\t\tload_state(model.optimizer, os.path.join(OUTPUT_DIR, 'optimizer.pkl'))\n",
    "\n",
    "\telse:\n",
    "\t\tmodel.load_weights(os.path.join(OUTPUT_DIR, 'model.h5'))\n",
    "\t\tload_state(model.optimizer, os.path.join(OUTPUT_DIR, 'optimizer.pkl'))"
   ]
  },
  {
   "cell_type": "code",
   "execution_count": null,
   "metadata": {},
   "outputs": [],
   "source": [
    "model.fit(\n",
    "\ttrain_generator,\n",
    "\tvalidation_data = BatchGenerator(tokens, val_indexes, size = VAL_STEPS),\n",
    "\tbatch_size = BATCH_SIZE,\n",
    "\tvalidation_batch_size = BATCH_SIZE,\n",
    "\tepochs = NUM_EPOCHS,\n",
    "\tshuffle = False,\n",
    "\tinitial_epoch = init_epoch,\n",
    "\tcallbacks = [\n",
    "\t\tLRScheduler(),\n",
    "\t\tSaveModel(),\n",
    "\t\tSaveLogs()\n",
    "\t]\n",
    ")"
   ]
  },
  {
   "cell_type": "code",
   "execution_count": null,
   "metadata": {},
   "outputs": [],
   "source": [
    "model.load_weights('./output/best_model.h5')"
   ]
  },
  {
   "cell_type": "code",
   "execution_count": null,
   "metadata": {},
   "outputs": [],
   "source": [
    "model.evaluate(BatchGenerator(tokens, val_indexes, size = STEP_PER_EPOCH), batch_size = BATCH_SIZE)"
   ]
  },
  {
   "cell_type": "code",
   "execution_count": null,
   "metadata": {},
   "outputs": [],
   "source": [
    "input = \"<eot>Je vais te tuer ici et maintenant.<eom>\"\n",
    "output = predict(model, input, tokenizer, max_length = 256, temperature = 0.5, top_p = 0.95, no_repeat = 1.0, verbose = True)"
   ]
  }
 ],
 "metadata": {
  "kernelspec": {
   "display_name": "venv",
   "language": "python",
   "name": "python3"
  },
  "language_info": {
   "codemirror_mode": {
    "name": "ipython",
    "version": 3
   },
   "file_extension": ".py",
   "mimetype": "text/x-python",
   "name": "python",
   "nbconvert_exporter": "python",
   "pygments_lexer": "ipython3",
   "version": "3.10.11"
  },
  "orig_nbformat": 4
 },
 "nbformat": 4,
 "nbformat_minor": 2
}
