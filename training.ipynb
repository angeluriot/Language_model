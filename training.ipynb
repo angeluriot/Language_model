{
 "cells": [
  {
   "cell_type": "code",
   "execution_count": null,
   "metadata": {},
   "outputs": [],
   "source": [
    "import os, pickle\n",
    "import tensorflow as tf\n",
    "from keras.models import *\n",
    "from keras.optimizers.optimizer_experimental.adamw import AdamW\n",
    "\n",
    "from gpt import data\n",
    "from gpt.settings import *\n",
    "from gpt.train.generator import *\n",
    "from gpt.train.model import *\n",
    "from gpt.train.callbacks import *\n",
    "from gpt.utils import *"
   ]
  },
  {
   "cell_type": "code",
   "execution_count": null,
   "metadata": {},
   "outputs": [],
   "source": [
    "gpus = tf.config.experimental.list_physical_devices('GPU')\n",
    "\n",
    "if gpus:\n",
    "\n",
    "\ttry:\n",
    "\t\ttf.config.experimental.set_visible_devices(gpus[0], 'GPU')\n",
    "\t\tprint('Using GPU :)')\n",
    "\n",
    "\texcept RuntimeError as e:\n",
    "\t\tprint(e)\n",
    "\n",
    "else:\n",
    "\tprint('Using CPU :(')"
   ]
  },
  {
   "cell_type": "code",
   "execution_count": null,
   "metadata": {},
   "outputs": [],
   "source": [
    "tokenizer, train_tokens, val_tokens = data.get_data()\n",
    "\n",
    "print('Train size:', '{:,.0f}'.format(len(train_tokens)))\n",
    "print('Val size:', '{:,.0f}'.format(len(val_tokens)))\n",
    "\n",
    "print('\\n' + tokenizer.decode(train_tokens[:MAX_CONTEXT], True))"
   ]
  },
  {
   "cell_type": "code",
   "execution_count": null,
   "metadata": {},
   "outputs": [],
   "source": [
    "train_generator = BatchGenerator(train_tokens, size = STEP_PER_EPOCH)\n",
    "x, y = train_generator.__getitem__(0)\n",
    "\n",
    "for i in range(len(x[0])):\n",
    "\tprint(x[0][i], end = (max(len(str(x[0][i])), len(str(y[0][i]))) - len(str(x[0][i])) + 1) * ' ' + '| ')\n",
    "\n",
    "print()\n",
    "\n",
    "for i in range(len(y[0])):\n",
    "\tprint(y[0][i], end = (max(len(str(x[0][i])), len(str(y[0][i]))) - len(str(y[0][i])) + 1) * ' ' + '| ')\n",
    "\n",
    "print('\\n')\n",
    "print_tokens(tokenizer.decode(x[0], True, True))\n",
    "print_tokens(tokenizer.decode(y[0], True, True))"
   ]
  },
  {
   "cell_type": "code",
   "execution_count": null,
   "metadata": {},
   "outputs": [],
   "source": [
    "model = create_model(len(tokenizer.vocab))\n",
    "\n",
    "model.compile(\n",
    "\toptimizer = AdamW(learning_rate = 0.0, weight_decay = WEIGHT_DECAY, beta_1 = BETA_1, beta_2 = BETA_2, clipnorm = CLIP_GRADIENTS),\n",
    "\tloss = 'sparse_categorical_crossentropy',\n",
    "\tmetrics = ['accuracy']\n",
    ")\n",
    "\n",
    "model.summary()"
   ]
  },
  {
   "cell_type": "code",
   "execution_count": null,
   "metadata": {},
   "outputs": [],
   "source": [
    "init_epoch = 0\n",
    "\n",
    "if os.path.exists(os.path.join(OUTPUT_DIR, 'logs.pkl')) and os.path.exists(os.path.join(OUTPUT_DIR, 'model.h5')) and os.path.exists(os.path.join(OUTPUT_DIR, 'optimizer.pkl')):\n",
    "\n",
    "\tlogs = pickle.load(open(os.path.join(OUTPUT_DIR, 'logs.pkl'), 'rb'))\n",
    "\tinit_epoch = logs['epochs'][-1]\n",
    "\n",
    "\tif NUM_ACCUMULATIONS > 1:\n",
    "\t\tload_state(model.optimizer, os.path.join(OUTPUT_DIR, 'optimizer.pkl'))\n",
    "\t\tmodel.fit(BatchGenerator(train_tokens, size = NUM_ACCUMULATIONS + 1), batch_size = BATCH_SIZE, epochs = 1, shuffle = False, verbose = 0)\n",
    "\t\tmodel.load_weights(os.path.join(OUTPUT_DIR, 'model.h5'))\n",
    "\t\treset_accumulator(model)\n",
    "\t\tload_state(model.optimizer, os.path.join(OUTPUT_DIR, 'optimizer.pkl'))\n",
    "\n",
    "\telse:\n",
    "\t\tmodel.load_weights(os.path.join(OUTPUT_DIR, 'model.h5'))\n",
    "\t\tload_state(model.optimizer, os.path.join(OUTPUT_DIR, 'optimizer.pkl'))"
   ]
  },
  {
   "cell_type": "code",
   "execution_count": null,
   "metadata": {},
   "outputs": [],
   "source": [
    "model.fit(\n",
    "\ttrain_generator,\n",
    "\tvalidation_data = BatchGenerator(val_tokens, size = VAL_STEPS),\n",
    "\tbatch_size = BATCH_SIZE,\n",
    "\tvalidation_batch_size = BATCH_SIZE,\n",
    "\tepochs = NUM_EPOCHS,\n",
    "\tshuffle = False,\n",
    "\tinitial_epoch = init_epoch,\n",
    "\tcallbacks = [\n",
    "\t\tLRScheduler(),\n",
    "\t\tSaveModel(),\n",
    "\t\tSaveLogs()\n",
    "\t]\n",
    ")"
   ]
  },
  {
   "cell_type": "code",
   "execution_count": null,
   "metadata": {},
   "outputs": [],
   "source": [
    "model.load_weights('./output/best_model.h5')"
   ]
  },
  {
   "cell_type": "code",
   "execution_count": null,
   "metadata": {},
   "outputs": [],
   "source": [
    "model.evaluate(BatchGenerator(val_tokens, size = STEP_PER_EPOCH), batch_size = BATCH_SIZE)"
   ]
  },
  {
   "cell_type": "code",
   "execution_count": null,
   "metadata": {},
   "outputs": [],
   "source": [
    "input = \"\"\n",
    "predict(model, input, tokenizer, max_length = 200, keep_input = True, temperature = 0.7, top_p = 0.95, no_repeat = 1.0, verbose = True, max_print_line_length = 160)"
   ]
  }
 ],
 "metadata": {
  "kernelspec": {
   "display_name": "venv",
   "language": "python",
   "name": "python3"
  },
  "language_info": {
   "codemirror_mode": {
    "name": "ipython",
    "version": 3
   },
   "file_extension": ".py",
   "mimetype": "text/x-python",
   "name": "python",
   "nbconvert_exporter": "python",
   "pygments_lexer": "ipython3",
   "version": "3.10.11"
  },
  "orig_nbformat": 4
 },
 "nbformat": 4,
 "nbformat_minor": 2
}
