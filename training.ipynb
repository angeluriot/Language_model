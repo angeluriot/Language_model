{
 "cells": [
  {
   "cell_type": "code",
   "execution_count": null,
   "metadata": {},
   "outputs": [],
   "source": [
    "import os, pickle\n",
    "import numpy as np\n",
    "import tensorflow as tf\n",
    "from keras.callbacks import *\n",
    "from keras.optimizers.optimizer_experimental.adamw import AdamW\n",
    "\n",
    "from settings import *\n",
    "import data\n",
    "from generator import *\n",
    "from model import *\n",
    "from callbacks import *\n",
    "from utils import *\n",
    "from tokenizer import *\n",
    "import pretokenizer as mypretk"
   ]
  },
  {
   "cell_type": "code",
   "execution_count": null,
   "metadata": {},
   "outputs": [],
   "source": [
    "gpus = tf.config.experimental.list_physical_devices('GPU')\n",
    "\n",
    "if gpus:\n",
    "\n",
    "\ttry:\n",
    "\t\ttf.config.experimental.set_visible_devices(gpus[0], 'GPU')\n",
    "\t\tprint('Using GPU :)')\n",
    "\n",
    "\texcept RuntimeError as e:\n",
    "\t\tprint(e)\n",
    "\n",
    "else:\n",
    "\tprint('Using CPU :(')"
   ]
  },
  {
   "cell_type": "code",
   "execution_count": null,
   "metadata": {},
   "outputs": [],
   "source": [
    "dataset = data.parse_dataset(DATASET_PATH)\n",
    "\n",
    "print('Dataset size:', '{:,.0f}'.format(len(dataset)))\n",
    "\n",
    "print('\\n' + dataset[:500])"
   ]
  },
  {
   "cell_type": "code",
   "execution_count": null,
   "metadata": {},
   "outputs": [],
   "source": [
    "words = mypretk.split(dataset[:500])\n",
    "\n",
    "print(dataset[:500].replace(' ', '_'))\n",
    "print_tokens(words)"
   ]
  },
  {
   "cell_type": "code",
   "execution_count": null,
   "metadata": {},
   "outputs": [],
   "source": [
    "tokenizer = Tokenizer(dataset)\n",
    "vocab = tokenizer.vocab\n",
    "\n",
    "print('\\nVocab size:', '{:,.0f}'.format(len(vocab)), '\\n')\n",
    "\n",
    "for v in vocab:\n",
    "\tprint(f'[{v}]', end = ' ')"
   ]
  },
  {
   "cell_type": "code",
   "execution_count": null,
   "metadata": {},
   "outputs": [],
   "source": [
    "if os.path.exists(os.path.join(PROCESSED_DATA_DIR, 'tokens.npy')):\n",
    "\ttokens = np.load(os.path.join(PROCESSED_DATA_DIR, 'tokens.npy'))\n",
    "\n",
    "else:\n",
    "\ttokens = tokenizer.encode(dataset, True)\n",
    "\tnp.save(os.path.join(PROCESSED_DATA_DIR, 'tokens.npy'), tokens)\n",
    "\n",
    "print('\\nEncoded dataset:')\n",
    "\n",
    "for token in tokens[:100]:\n",
    "\tprint(token, end = ' ')\n",
    "\n",
    "print('\\n\\nDecoded dataset:')\n",
    "\n",
    "example = tokenizer.decode(tokens[:100], True, True)\n",
    "print_tokens(example)"
   ]
  },
  {
   "cell_type": "code",
   "execution_count": null,
   "metadata": {},
   "outputs": [],
   "source": [
    "train_indexes, val_indexes = data.split_dataset(tokens)\n",
    "\n",
    "print('Train indexes:', '{:,.0f}'.format(len(train_indexes)))\n",
    "print('Val indexes:  ', '{:,.0f}'.format(len(val_indexes)))"
   ]
  },
  {
   "cell_type": "code",
   "execution_count": null,
   "metadata": {},
   "outputs": [],
   "source": [
    "train_generator = BatchGenerator(tokens, train_indexes, size = STEP_PER_EPOCH)\n",
    "x, y = train_generator.__getitem__(0)\n",
    "\n",
    "for i in range(len(x[0])):\n",
    "\tprint(x[0][i], end = (max(len(str(x[0][i])), len(str(y[0][i]))) - len(str(x[0][i])) + 1) * ' ' + '| ')\n",
    "\n",
    "print()\n",
    "\n",
    "for i in range(len(y[0])):\n",
    "\tprint(y[0][i], end = (max(len(str(x[0][i])), len(str(y[0][i]))) - len(str(y[0][i])) + 1) * ' ' + '| ')\n",
    "\n",
    "print('\\n')\n",
    "print_tokens(tokenizer.decode(x[0], True, True))\n",
    "print_tokens(tokenizer.decode(y[0], True, True))"
   ]
  },
  {
   "cell_type": "code",
   "execution_count": null,
   "metadata": {},
   "outputs": [],
   "source": [
    "model = create_model(len(tokenizer.vocab))\n",
    "\n",
    "model.compile(\n",
    "\toptimizer = AdamW(learning_rate = 0.0, weight_decay = WEIGHT_DECAY, beta_1 = BETA_1, beta_2 = BETA_2, global_clipnorm = CLIP_GRADIENTS),\n",
    "\tloss = 'sparse_categorical_crossentropy',\n",
    "\tmetrics = ['accuracy']\n",
    ")\n",
    "\n",
    "model.summary()"
   ]
  },
  {
   "cell_type": "code",
   "execution_count": null,
   "metadata": {},
   "outputs": [],
   "source": [
    "model.fit(\n",
    "\ttrain_generator,\n",
    "\tvalidation_data = BatchGenerator(tokens, val_indexes, size = VAL_STEPS),\n",
    "\tbatch_size = BATCH_SIZE,\n",
    "\tvalidation_batch_size = BATCH_SIZE,\n",
    "\tepochs = NUM_EPOCHS,\n",
    "\tshuffle = False,\n",
    "\tcallbacks = [\n",
    "\t\tLRScheduler(STEP_PER_EPOCH),\n",
    "\t\tModelCheckpoint(\n",
    "\t\t\tfilepath = 'model.h5',\n",
    "\t\t\tmonitor = 'val_loss',\n",
    "\t\t\tsave_best_only = True,\n",
    "\t\t\tsave_weights_only = True\n",
    "\t\t),\n",
    "\t\tEarlyStopping(\n",
    "\t\t\tmonitor = 'val_loss',\n",
    "\t\t\tpatience = 50,\n",
    "\t\t\trestore_best_weights = True\n",
    "\t\t)\n",
    "\t]\n",
    ")"
   ]
  },
  {
   "cell_type": "code",
   "execution_count": null,
   "metadata": {},
   "outputs": [],
   "source": [
    "model.load_weights('model.h5')"
   ]
  },
  {
   "cell_type": "code",
   "execution_count": null,
   "metadata": {},
   "outputs": [],
   "source": [
    "model.evaluate(BatchGenerator(tokens, val_indexes, size = STEP_PER_EPOCH), batch_size = BATCH_SIZE)"
   ]
  },
  {
   "cell_type": "code",
   "execution_count": null,
   "metadata": {},
   "outputs": [],
   "source": [
    "input = \"<eom><eod>Tu as voté pour qui en 2022 ?<eom>\"\n",
    "output = predict(model, input, tokenizer, max_length = 256, temperature = 0.7, top_p = 0.95, verbose = True)"
   ]
  }
 ],
 "metadata": {
  "kernelspec": {
   "display_name": "venv",
   "language": "python",
   "name": "python3"
  },
  "language_info": {
   "codemirror_mode": {
    "name": "ipython",
    "version": 3
   },
   "file_extension": ".py",
   "mimetype": "text/x-python",
   "name": "python",
   "nbconvert_exporter": "python",
   "pygments_lexer": "ipython3",
   "version": "3.10.11"
  },
  "orig_nbformat": 4
 },
 "nbformat": 4,
 "nbformat_minor": 2
}
